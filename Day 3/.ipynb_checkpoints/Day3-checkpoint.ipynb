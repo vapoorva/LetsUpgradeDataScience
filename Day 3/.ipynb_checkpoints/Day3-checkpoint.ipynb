{
 "cells": [
  {
   "cell_type": "code",
   "execution_count": 1,
   "metadata": {},
   "outputs": [],
   "source": [
    "import numpy as np"
   ]
  },
  {
   "cell_type": "code",
   "execution_count": 2,
   "metadata": {},
   "outputs": [
    {
     "data": {
      "text/plain": [
       "array([ 2,  5,  8, 11, 14, 17, 20, 23, 26, 29, 32, 35, 38, 41, 44, 47, 50])"
      ]
     },
     "execution_count": 2,
     "metadata": {},
     "output_type": "execute_result"
    }
   ],
   "source": [
    "#Q1\n",
    "np.arange(2,51,3)"
   ]
  },
  {
   "cell_type": "code",
   "execution_count": 24,
   "metadata": {},
   "outputs": [
    {
     "name": "stdout",
     "output_type": "stream",
     "text": [
      "1 2 3 4 5\n",
      "6 7 8 9 0\n",
      "[1 2 3 4 5]\n",
      "[6 7 8 9 0]\n",
      "[1 2 3 4 5 6 7 8 9 0]\n"
     ]
    }
   ],
   "source": [
    "#Q2\n",
    "list1 = list(int(num)for num in input().split())[0:5]\n",
    "list2 = list(int(num)for num in input().split())[0:5]\n",
    "arr1 = np.array(list1)\n",
    "arr2= np.array(list2)\n",
    "print(np.concatenate((arr1,arr2)))"
   ]
  },
  {
   "cell_type": "code",
   "execution_count": 31,
   "metadata": {},
   "outputs": [
    {
     "name": "stdout",
     "output_type": "stream",
     "text": [
      "2\n",
      "3\n",
      "12\n",
      "12\n"
     ]
    }
   ],
   "source": [
    "#Q3\n",
    "arr = np.arange(12).reshape(3,4)\n",
    "arr2= np.arange(12).reshape(2,2,3)\n",
    "\n",
    "print(arr.ndim)#dimension of array\n",
    "print(arr2.ndim)\n",
    "\n",
    "print(arr.size)#size  of array\n",
    "print(arr2.size)"
   ]
  },
  {
   "cell_type": "code",
   "execution_count": 37,
   "metadata": {},
   "outputs": [
    {
     "name": "stdout",
     "output_type": "stream",
     "text": [
      "[[0 1]\n",
      " [2 3]]\n",
      "(2, 2)\n",
      "row vector: [[[0 1]\n",
      "  [2 3]]]\n",
      "(1, 2, 2)\n",
      "\n",
      "\n",
      "column vector:\n",
      " [[[0 1]]\n",
      "\n",
      " [[2 3]]]\n",
      "(2, 1, 2)\n"
     ]
    }
   ],
   "source": [
    "#Q4\n",
    "#np.newaxis\n",
    "x1=np.arange(4).reshape(2,2)\n",
    "print(x1)\n",
    "print(x1.shape)\n",
    "\n",
    "### create a row vector by adding first dimension\n",
    "print(\"row vector:\", x1[np.newaxis, :] )\n",
    "print(x1[np.newaxis, :].shape)\n",
    "\n",
    "### create a column vector by adding second dimension\n",
    "print(\"\\n\")\n",
    "print(\"column vector:\\n\", x1[:, np.newaxis])\n",
    "print(x1[:, np.newaxis].shape)"
   ]
  },
  {
   "cell_type": "code",
   "execution_count": 38,
   "metadata": {},
   "outputs": [
    {
     "name": "stdout",
     "output_type": "stream",
     "text": [
      "Row vector using expand_dims: [[[0 1]\n",
      "  [2 3]]]\n",
      "column vector using expand_dims:\n",
      " [[[0 1]]\n",
      "\n",
      " [[2 3]]]\n"
     ]
    }
   ],
   "source": [
    "#np.expanddims\n",
    "\n",
    "print(\"Row vector using expand_dims:\",np.expand_dims(x1, axis=0)) \n",
    "print(\"column vector using expand_dims:\\n\", np.expand_dims(x1, axis=1))"
   ]
  }
 ],
 "metadata": {
  "kernelspec": {
   "display_name": "Python 3",
   "language": "python",
   "name": "python3"
  },
  "language_info": {
   "codemirror_mode": {
    "name": "ipython",
    "version": 3
   },
   "file_extension": ".py",
   "mimetype": "text/x-python",
   "name": "python",
   "nbconvert_exporter": "python",
   "pygments_lexer": "ipython3",
   "version": "3.7.4"
  }
 },
 "nbformat": 4,
 "nbformat_minor": 2
}
